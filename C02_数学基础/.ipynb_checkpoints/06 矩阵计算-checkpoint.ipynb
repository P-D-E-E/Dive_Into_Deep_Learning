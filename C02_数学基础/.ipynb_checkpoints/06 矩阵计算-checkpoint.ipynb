{
 "cells": [
  {
   "cell_type": "markdown",
   "id": "4a3661c2",
   "metadata": {},
   "source": [
    "矩阵计算\n",
    "====="
   ]
  },
  {
   "cell_type": "markdown",
   "id": "696b64fe",
   "metadata": {},
   "source": [
    "#### 1. 这里的矩阵计算包含几个层次\n",
    "#### $y = f(x)$, $y = f(\\mathbf{x})$, $\\mathbf{y} = f(x)$, $\\mathbf{y}=f(\\mathbf{x})$\n",
    "#### 分别是标对标、标对向、向对标、向对向\n",
    "#### 他们的导数分别可以表示为：\n",
    "#### $\\frac{\\partial{y}}{\\partial{x}}$, $\\frac{\\partial{y}}{\\partial{\\mathbf{x}}}$, $\\frac{\\partial{\\mathbf{y}}}{\\partial{x}}$, $\\frac{\\partial{\\mathbf{y}}}{\\partial{\\mathbf{x}}}$"
   ]
  },
  {
   "cell_type": "markdown",
   "id": "81992afb",
   "metadata": {},
   "source": [
    "### $\\partial{y}/\\partial{\\mathbf{x}}$\n",
    "\n",
    "#### $\\mathbf{x} = \\begin{bmatrix}x_1\\\\ x_2 \\\\ ... \\\\ x_n \\end{bmatrix}$, $\n",
    "\\frac{\\partial{y}}{\\partial{\\mathbf x}} \n",
    "=\n",
    "\\begin{bmatrix} \n",
    "\\frac{\\partial{y}}{\\partial{x_1}},\n",
    "\\frac{\\partial{y}}{\\partial{x_2}},\n",
    "...,\n",
    "\\frac{\\partial{y}}{\\partial{x_n}}\\\\\n",
    "\\end{bmatrix}$"
   ]
  },
  {
   "cell_type": "markdown",
   "id": "caef549e",
   "metadata": {},
   "source": [
    "### $\\partial{\\mathbf{y}}/\\partial{x}$\n",
    "\n",
    "#### $\\mathbf{\\mathbf y} = \\begin{bmatrix}y_1\\\\ y_2 \\\\ ... \\\\ y_n \\end{bmatrix}$, $\n",
    "\\frac{\\partial{\\mathbf y}}{\\partial{x}} \n",
    "=\n",
    "\\begin{bmatrix} \n",
    "\\frac{\\partial{y_1}}{\\partial{x}}\\\\\n",
    "\\frac{\\partial{y_2}}{\\partial{x}}\\\\\n",
    "...\\\\\n",
    "\\frac{\\partial{y_n}}{\\partial{x}}\\\\\n",
    "\\end{bmatrix}$"
   ]
  },
  {
   "cell_type": "markdown",
   "id": "a033de77",
   "metadata": {},
   "source": [
    "### $\\partial{\\mathbf{y}}/\\partial{\\mathbf{x}}$\n",
    "\n",
    "#### $\\mathbf{x} = \\begin{bmatrix}x_1\\\\ x_2 \\\\ ... \\\\ x_n \\end{bmatrix}$, $\\mathbf{\\mathbf y} = \\begin{bmatrix}y_1\\\\ y_2 \\\\ ... \\\\ y_m \\end{bmatrix}$\n",
    "#### $\n",
    "\\frac{\\partial\\mathbf{y}}{\\partial{\\mathbf x}} \n",
    "=\n",
    "\\begin{bmatrix} \n",
    "\\frac{\\partial{y_1}}{\\partial{x_1}}\\\\\n",
    "\\frac{\\partial{y_2}}{\\partial{x_2}}\\\\\n",
    "...\\\\\n",
    "\\frac{\\partial{y_m}}{\\partial{x_n}}\\\\\n",
    "\\end{bmatrix}\n",
    "=\n",
    "\\begin{bmatrix} \n",
    "\\frac{\\partial{y_1}}{\\partial{x_1}},\n",
    "\\frac{\\partial{y_1}}{\\partial{x_2}},\n",
    "...,\n",
    "\\frac{\\partial{y_1}}{\\partial{x_n}}\\\\\n",
    "\\frac{\\partial{y_2}}{\\partial{x_1}},\n",
    "\\frac{\\partial{y_2}}{\\partial{x_2}},\n",
    "...,\n",
    "\\frac{\\partial{y_2}}{\\partial{x_n}}\\\\\n",
    "...\\\\\n",
    "\\frac{\\partial{y_m}}{\\partial{x_1}},\n",
    "\\frac{\\partial{y_m}}{\\partial{x_2}},\n",
    "...,\n",
    "\\frac{\\partial{y_m}}{\\partial{x_n}}\\\\\n",
    "\\end{bmatrix}$"
   ]
  },
  {
   "cell_type": "markdown",
   "id": "c5a65f96",
   "metadata": {},
   "source": [
    "#### 2. 导数链式法则"
   ]
  },
  {
   "cell_type": "markdown",
   "id": "1dc3bbda",
   "metadata": {},
   "source": [
    "#### 矩阵求导实例1\n",
    "\n",
    "#### 假设：$\\mathbf{x,\\space w}\\in \\mathbb R^n, y \\in \\mathbb R\n",
    "        $,  $\\space z = (<\\mathbf {x, w}> - y)^2$\n",
    "\n",
    "#### 计算 ：$\\frac{\\partial z}{\\partial{\\mathbf {w}}}$\n",
    "\n",
    "#### 令 $a = <\\mathbf {x, w}>, \\space b = a - y, \\space z = b^2$\n",
    "\n",
    "#### 进行求导：\n",
    "##### $\\begin{aligned}\n",
    "            \\frac{\\partial y}{\\partial{\\mathbf w}}\n",
    "             &= \\frac{\\partial y}{\\partial b} \n",
    "             \\frac{\\partial b}{\\partial a} \\frac{\\partial a}{\\partial w}\\\\\n",
    "             &= \\frac{\\partial b^2}{\\partial b} \n",
    "             \\frac{\\partial {(a-y)}}{\\partial a} \\frac{\\partial {<\\mathbf {x, w}}>-y}{\\partial w}\\\\\n",
    "             &= 2b · 1 · x^T\\\\\n",
    "             &= 2(<\\mathbf {x,w}>-y)x^T\n",
    "             \\end{aligned}$"
   ]
  },
  {
   "cell_type": "markdown",
   "id": "12efd311",
   "metadata": {},
   "source": [
    "#### 使用pytorch实现自动求导"
   ]
  },
  {
   "cell_type": "code",
   "execution_count": 1,
   "id": "54185907",
   "metadata": {},
   "outputs": [],
   "source": [
    "import torch"
   ]
  },
  {
   "cell_type": "markdown",
   "id": "c5f7d2f3",
   "metadata": {},
   "source": [
    "#### 先创建了一个向量$\\mathbf x^T$,接下来要求$\\mathbf{x^Tx}$的导数"
   ]
  },
  {
   "cell_type": "code",
   "execution_count": 2,
   "id": "6bcf1b4f",
   "metadata": {},
   "outputs": [
    {
     "data": {
      "text/plain": [
       "tensor([0., 1., 2., 3.])"
      ]
     },
     "execution_count": 2,
     "metadata": {},
     "output_type": "execute_result"
    }
   ],
   "source": [
    "x = torch.arange(4.0)\n",
    "x"
   ]
  },
  {
   "cell_type": "markdown",
   "id": "4b7345d7",
   "metadata": {},
   "source": [
    "#### 在计算导数之前，需要有一个地方来存梯度\n",
    "#### 此处先将x.requires_grad_设置为True，然后x.grad就存了导数"
   ]
  },
  {
   "cell_type": "code",
   "execution_count": 3,
   "id": "18b5d276",
   "metadata": {},
   "outputs": [],
   "source": [
    "x.requires_grad_(True)\n",
    "x.grad"
   ]
  },
  {
   "cell_type": "code",
   "execution_count": 11,
   "id": "eb2c7738",
   "metadata": {},
   "outputs": [
    {
     "data": {
      "text/plain": [
       "tensor(28., grad_fn=<MulBackward0>)"
      ]
     },
     "execution_count": 11,
     "metadata": {},
     "output_type": "execute_result"
    }
   ],
   "source": [
    "y = 2 * torch.dot(x, x)\n",
    "y\n"
   ]
  },
  {
   "cell_type": "markdown",
   "id": "f39f88b8",
   "metadata": {},
   "source": [
    "#### 通过调用反向传播来自动计算y关于$\\mathbf {x}$每个分量的梯度"
   ]
  },
  {
   "cell_type": "code",
   "execution_count": 12,
   "id": "1c3468af",
   "metadata": {},
   "outputs": [
    {
     "data": {
      "text/plain": [
       "tensor([ 0., 12., 24., 36.])"
      ]
     },
     "execution_count": 12,
     "metadata": {},
     "output_type": "execute_result"
    }
   ],
   "source": [
    "y.backward()\n",
    "x.grad"
   ]
  },
  {
   "cell_type": "code",
   "execution_count": 6,
   "id": "f70fe72a",
   "metadata": {},
   "outputs": [
    {
     "data": {
      "text/plain": [
       "tensor([True, True, True, True])"
      ]
     },
     "execution_count": 6,
     "metadata": {},
     "output_type": "execute_result"
    }
   ],
   "source": [
    "x.grad == 4 * x"
   ]
  },
  {
   "cell_type": "markdown",
   "id": "6855346f",
   "metadata": {},
   "source": [
    "#### 注意，PyTorch会累计梯度，所以说在再次运算前，需要清除梯度"
   ]
  },
  {
   "cell_type": "code",
   "execution_count": 13,
   "id": "081f6447",
   "metadata": {},
   "outputs": [
    {
     "data": {
      "text/plain": [
       "tensor([1., 1., 1., 1.])"
      ]
     },
     "execution_count": 13,
     "metadata": {},
     "output_type": "execute_result"
    }
   ],
   "source": [
    "x.grad.zero_()\n",
    "y = x.sum() ## 等价于x_1 + x_2 + x_3 + x_4\n",
    "y.backward()\n",
    "x.grad"
   ]
  },
  {
   "cell_type": "code",
   "execution_count": 15,
   "id": "de7e95f2",
   "metadata": {},
   "outputs": [
    {
     "data": {
      "text/plain": [
       "tensor([0., 2., 4., 6.])"
      ]
     },
     "execution_count": 15,
     "metadata": {},
     "output_type": "execute_result"
    }
   ],
   "source": [
    "x.grad.zero_()\n",
    "y = x * x\n",
    "y.sum().backward()## 等价于x_1^2 + x_2^2 + x_3^2 + x_4^2\n",
    "x.grad"
   ]
  },
  {
   "cell_type": "code",
   "execution_count": 16,
   "id": "c719edfa",
   "metadata": {},
   "outputs": [
    {
     "data": {
      "text/plain": [
       "tensor([True, True, True, True])"
      ]
     },
     "execution_count": 16,
     "metadata": {},
     "output_type": "execute_result"
    }
   ],
   "source": [
    "x.grad.zero_()\n",
    "y = x * x\n",
    "u = y.detach()## 将y设置成为一个和x无关的值\n",
    "z = u * x\n",
    "\n",
    "z.sum().backward()\n",
    "x.grad == u"
   ]
  },
  {
   "cell_type": "code",
   "execution_count": 17,
   "id": "da9cd16e",
   "metadata": {},
   "outputs": [
    {
     "data": {
      "text/plain": [
       "tensor([True, True, True, True])"
      ]
     },
     "execution_count": 17,
     "metadata": {},
     "output_type": "execute_result"
    }
   ],
   "source": [
    "x.grad.zero_()\n",
    "y.sum().backward()\n",
    "x.grad == 2 * x"
   ]
  },
  {
   "cell_type": "code",
   "execution_count": null,
   "id": "3e926483",
   "metadata": {},
   "outputs": [],
   "source": []
  }
 ],
 "metadata": {
  "kernelspec": {
   "display_name": "Python 3 (ipykernel)",
   "language": "python",
   "name": "python3"
  },
  "language_info": {
   "codemirror_mode": {
    "name": "ipython",
    "version": 3
   },
   "file_extension": ".py",
   "mimetype": "text/x-python",
   "name": "python",
   "nbconvert_exporter": "python",
   "pygments_lexer": "ipython3",
   "version": "3.10.9"
  }
 },
 "nbformat": 4,
 "nbformat_minor": 5
}
