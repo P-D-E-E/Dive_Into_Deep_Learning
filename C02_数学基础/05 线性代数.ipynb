{
 "cells": [
  {
   "cell_type": "markdown",
   "id": "33b78087",
   "metadata": {},
   "source": [
    "# 线性代数"
   ]
  },
  {
   "cell_type": "code",
   "execution_count": 4,
   "id": "aae74017",
   "metadata": {},
   "outputs": [],
   "source": [
    "import torch"
   ]
  },
  {
   "cell_type": "markdown",
   "id": "b16b4c07",
   "metadata": {},
   "source": [
    "#### 1. 标量"
   ]
  },
  {
   "cell_type": "code",
   "execution_count": 5,
   "id": "6f96e30d",
   "metadata": {},
   "outputs": [
    {
     "data": {
      "text/plain": [
       "(tensor([3.]), tensor([2.]), tensor([0.5000]), tensor([1.]))"
      ]
     },
     "execution_count": 5,
     "metadata": {},
     "output_type": "execute_result"
    }
   ],
   "source": [
    "x = torch.tensor([1.0])\n",
    "y = torch.tensor([2.0])\n",
    "\n",
    "x + y, x * y, x / y, x ** y"
   ]
  },
  {
   "cell_type": "markdown",
   "id": "d11b1c83",
   "metadata": {},
   "source": [
    "#### 2. 向量"
   ]
  },
  {
   "cell_type": "code",
   "execution_count": 6,
   "id": "e0021198",
   "metadata": {},
   "outputs": [
    {
     "data": {
      "text/plain": [
       "tensor([0, 1, 2, 3])"
      ]
     },
     "execution_count": 6,
     "metadata": {},
     "output_type": "execute_result"
    }
   ],
   "source": [
    "x = torch.arange(4)\n",
    "x"
   ]
  },
  {
   "cell_type": "code",
   "execution_count": 7,
   "id": "bc294801",
   "metadata": {},
   "outputs": [
    {
     "data": {
      "text/plain": [
       "tensor(1)"
      ]
     },
     "execution_count": 7,
     "metadata": {},
     "output_type": "execute_result"
    }
   ],
   "source": [
    "x[1]"
   ]
  },
  {
   "cell_type": "markdown",
   "id": "f66c668c",
   "metadata": {},
   "source": [
    "#### 3. 张量的长度以及张量的形状"
   ]
  },
  {
   "cell_type": "code",
   "execution_count": 10,
   "id": "84b3249c",
   "metadata": {},
   "outputs": [
    {
     "data": {
      "text/plain": [
       "(4, torch.Size([4]))"
      ]
     },
     "execution_count": 10,
     "metadata": {},
     "output_type": "execute_result"
    }
   ],
   "source": [
    "len(x),x.shape"
   ]
  },
  {
   "cell_type": "markdown",
   "id": "d0642b02",
   "metadata": {},
   "source": [
    "#### 4. 通过指定两个分量m和n来创建一个形状为m x n的矩阵"
   ]
  },
  {
   "cell_type": "code",
   "execution_count": 12,
   "id": "f3582dd7",
   "metadata": {},
   "outputs": [
    {
     "data": {
      "text/plain": [
       "tensor([[ 0,  1,  2,  3],\n",
       "        [ 4,  5,  6,  7],\n",
       "        [ 8,  9, 10, 11],\n",
       "        [12, 13, 14, 15],\n",
       "        [16, 17, 18, 19]])"
      ]
     },
     "execution_count": 12,
     "metadata": {},
     "output_type": "execute_result"
    }
   ],
   "source": [
    "A = torch.arange(20).reshape(5, 4)\n",
    "A"
   ]
  },
  {
   "cell_type": "markdown",
   "id": "b70502b8",
   "metadata": {},
   "source": [
    "#### 5. 矩阵的转置"
   ]
  },
  {
   "cell_type": "code",
   "execution_count": 15,
   "id": "dd305bcb",
   "metadata": {},
   "outputs": [
    {
     "data": {
      "text/plain": [
       "tensor([[ 0,  4,  8, 12, 16],\n",
       "        [ 1,  5,  9, 13, 17],\n",
       "        [ 2,  6, 10, 14, 18],\n",
       "        [ 3,  7, 11, 15, 19]])"
      ]
     },
     "execution_count": 15,
     "metadata": {},
     "output_type": "execute_result"
    }
   ],
   "source": [
    "A.T"
   ]
  },
  {
   "cell_type": "markdown",
   "id": "38e8b88d",
   "metadata": {},
   "source": [
    "#### 6.创建对称矩阵，性质为: $A = A^T$"
   ]
  },
  {
   "cell_type": "code",
   "execution_count": 18,
   "id": "1a489ac2",
   "metadata": {},
   "outputs": [
    {
     "data": {
      "text/plain": [
       "tensor([[1, 2, 3],\n",
       "        [2, 4, 5],\n",
       "        [3, 5, 1]])"
      ]
     },
     "execution_count": 18,
     "metadata": {},
     "output_type": "execute_result"
    }
   ],
   "source": [
    "B = torch.tensor([[1, 2, 3], [2, 4, 5], [3, 5, 1]])\n",
    "B"
   ]
  },
  {
   "cell_type": "code",
   "execution_count": 19,
   "id": "e02cad86",
   "metadata": {},
   "outputs": [
    {
     "data": {
      "text/plain": [
       "tensor([[True, True, True],\n",
       "        [True, True, True],\n",
       "        [True, True, True]])"
      ]
     },
     "execution_count": 19,
     "metadata": {},
     "output_type": "execute_result"
    }
   ],
   "source": [
    "B == B.T"
   ]
  },
  {
   "cell_type": "markdown",
   "id": "d03b298d",
   "metadata": {},
   "source": [
    "#### 7. m x n的矩阵可以看作是m个n维行向量或n个m维列向量，即矩阵是向量的推广。\n",
    "#### 而k个矩阵还可能组合起来进行推广"
   ]
  },
  {
   "cell_type": "code",
   "execution_count": 20,
   "id": "61984681",
   "metadata": {},
   "outputs": [
    {
     "data": {
      "text/plain": [
       "tensor([[[ 0,  1,  2,  3],\n",
       "         [ 4,  5,  6,  7],\n",
       "         [ 8,  9, 10, 11]],\n",
       "\n",
       "        [[12, 13, 14, 15],\n",
       "         [16, 17, 18, 19],\n",
       "         [20, 21, 22, 23]]])"
      ]
     },
     "execution_count": 20,
     "metadata": {},
     "output_type": "execute_result"
    }
   ],
   "source": [
    "X = torch.arange(24).reshape(2, 3, 4)\n",
    "X"
   ]
  },
  {
   "cell_type": "markdown",
   "id": "d8ffa568",
   "metadata": {},
   "source": [
    "#### 8.给定具有相同形状的任何两个向量，任何按元素二元运算的结果都会得到相同形状的结果"
   ]
  },
  {
   "cell_type": "code",
   "execution_count": 25,
   "id": "5c70f0ff",
   "metadata": {},
   "outputs": [
    {
     "data": {
      "text/plain": [
       "(tensor([[ 0.,  1.,  2.,  3.],\n",
       "         [ 4.,  5.,  6.,  7.],\n",
       "         [ 8.,  9., 10., 11.],\n",
       "         [12., 13., 14., 15.],\n",
       "         [16., 17., 18., 19.]]),\n",
       " tensor([[ 0.,  2.,  4.,  6.],\n",
       "         [ 8., 10., 12., 14.],\n",
       "         [16., 18., 20., 22.],\n",
       "         [24., 26., 28., 30.],\n",
       "         [32., 34., 36., 38.]]))"
      ]
     },
     "execution_count": 25,
     "metadata": {},
     "output_type": "execute_result"
    }
   ],
   "source": [
    "A = torch.arange(20, dtype = torch.float32).reshape(5, 4)\n",
    "B = A.clone() # 通过分配新内存，将A的一个副本分配给B\n",
    "A, A + B"
   ]
  },
  {
   "cell_type": "markdown",
   "id": "a8213c9a",
   "metadata": {},
   "source": [
    "#### 9.两个矩阵按元素乘法被称为 哈达玛积（数学符号为：$\\odot$）"
   ]
  },
  {
   "cell_type": "code",
   "execution_count": 26,
   "id": "82a61aba",
   "metadata": {},
   "outputs": [
    {
     "data": {
      "text/plain": [
       "tensor([[  0.,   1.,   4.,   9.],\n",
       "        [ 16.,  25.,  36.,  49.],\n",
       "        [ 64.,  81., 100., 121.],\n",
       "        [144., 169., 196., 225.],\n",
       "        [256., 289., 324., 361.]])"
      ]
     },
     "execution_count": 26,
     "metadata": {},
     "output_type": "execute_result"
    }
   ],
   "source": [
    "A * B"
   ]
  },
  {
   "cell_type": "code",
   "execution_count": 30,
   "id": "f1446d91",
   "metadata": {},
   "outputs": [
    {
     "data": {
      "text/plain": [
       "(tensor([[ 0,  1,  2,  3],\n",
       "         [ 4,  5,  6,  7],\n",
       "         [ 8,  9, 10, 11],\n",
       "         [12, 13, 14, 15],\n",
       "         [16, 17, 18, 19]]),\n",
       " tensor([[ 2,  3,  4,  5],\n",
       "         [ 6,  7,  8,  9],\n",
       "         [10, 11, 12, 13],\n",
       "         [14, 15, 16, 17],\n",
       "         [18, 19, 20, 21]]),\n",
       " tensor([[ 0,  2,  4,  6],\n",
       "         [ 8, 10, 12, 14],\n",
       "         [16, 18, 20, 22],\n",
       "         [24, 26, 28, 30],\n",
       "         [32, 34, 36, 38]]),\n",
       " torch.Size([5, 4]))"
      ]
     },
     "execution_count": 30,
     "metadata": {},
     "output_type": "execute_result"
    }
   ],
   "source": [
    "a = 2\n",
    "X = torch.arange(20).reshape(5, 4)\n",
    "X, a + X, a * X, (a * X).shape # a + X表示对X的所有元素均加上a这个标量"
   ]
  },
  {
   "cell_type": "markdown",
   "id": "32fdbcc0",
   "metadata": {},
   "source": [
    "#### 10. 计算元素和"
   ]
  },
  {
   "cell_type": "code",
   "execution_count": 31,
   "id": "cd38cb26",
   "metadata": {},
   "outputs": [
    {
     "data": {
      "text/plain": [
       "(tensor([0., 1., 2., 3.]), tensor(6.))"
      ]
     },
     "execution_count": 31,
     "metadata": {},
     "output_type": "execute_result"
    }
   ],
   "source": [
    "x = torch.arange(4, dtype = torch.float32)\n",
    "x, x.sum()"
   ]
  },
  {
   "cell_type": "code",
   "execution_count": 32,
   "id": "71ac7a34",
   "metadata": {},
   "outputs": [
    {
     "data": {
      "text/plain": [
       "(tensor([[[ 0,  1,  2,  3],\n",
       "          [ 4,  5,  6,  7],\n",
       "          [ 8,  9, 10, 11],\n",
       "          [12, 13, 14, 15],\n",
       "          [16, 17, 18, 19]],\n",
       " \n",
       "         [[20, 21, 22, 23],\n",
       "          [24, 25, 26, 27],\n",
       "          [28, 29, 30, 31],\n",
       "          [32, 33, 34, 35],\n",
       "          [36, 37, 38, 39]]]),\n",
       " tensor(780))"
      ]
     },
     "execution_count": 32,
     "metadata": {},
     "output_type": "execute_result"
    }
   ],
   "source": [
    "x = torch.arange(40).reshape(2, 5, 4)\n",
    "x, x.sum()"
   ]
  },
  {
   "cell_type": "markdown",
   "id": "a087d383",
   "metadata": {},
   "source": [
    "#### 11. 按照指定的axis求张量的和"
   ]
  },
  {
   "cell_type": "code",
   "execution_count": 47,
   "id": "394ddd5c",
   "metadata": {},
   "outputs": [
    {
     "data": {
      "text/plain": [
       "(tensor([[[ 0.,  1.,  2.,  3.,  4.],\n",
       "          [ 5.,  6.,  7.,  8.,  9.],\n",
       "          [10., 11., 12., 13., 14.],\n",
       "          [15., 16., 17., 18., 19.]],\n",
       " \n",
       "         [[20., 21., 22., 23., 24.],\n",
       "          [25., 26., 27., 28., 29.],\n",
       "          [30., 31., 32., 33., 34.],\n",
       "          [35., 36., 37., 38., 39.]]]),\n",
       " tensor([[20., 22., 24., 26., 28.],\n",
       "         [30., 32., 34., 36., 38.],\n",
       "         [40., 42., 44., 46., 48.],\n",
       "         [50., 52., 54., 56., 58.]]),\n",
       " torch.Size([4, 5]))"
      ]
     },
     "execution_count": 47,
     "metadata": {},
     "output_type": "execute_result"
    }
   ],
   "source": [
    "A = torch.arange(40, dtype=torch.float32).reshape(2, 4, 5)\n",
    "A_sum_axis0 = A.sum(axis = 0)\n",
    "A, A_sum_axis0, A_sum_axis0.shape"
   ]
  },
  {
   "cell_type": "code",
   "execution_count": 43,
   "id": "2d7cd32b",
   "metadata": {},
   "outputs": [
    {
     "data": {
      "text/plain": [
       "(tensor([[[ 0,  1,  2,  3,  4],\n",
       "          [ 5,  6,  7,  8,  9],\n",
       "          [10, 11, 12, 13, 14],\n",
       "          [15, 16, 17, 18, 19]],\n",
       " \n",
       "         [[20, 21, 22, 23, 24],\n",
       "          [25, 26, 27, 28, 29],\n",
       "          [30, 31, 32, 33, 34],\n",
       "          [35, 36, 37, 38, 39]]]),\n",
       " tensor([[ 30,  34,  38,  42,  46],\n",
       "         [110, 114, 118, 122, 126]]),\n",
       " torch.Size([2, 5]))"
      ]
     },
     "execution_count": 43,
     "metadata": {},
     "output_type": "execute_result"
    }
   ],
   "source": [
    "A_sum_axis1 = A.sum(axis = 1)\n",
    "A, A_sum_axis1, A_sum_axis1.shape"
   ]
  },
  {
   "cell_type": "code",
   "execution_count": 38,
   "id": "6e9e5d70",
   "metadata": {},
   "outputs": [
    {
     "data": {
      "text/plain": [
       "(tensor([[[ 0,  1,  2,  3,  4],\n",
       "          [ 5,  6,  7,  8,  9],\n",
       "          [10, 11, 12, 13, 14],\n",
       "          [15, 16, 17, 18, 19]],\n",
       " \n",
       "         [[20, 21, 22, 23, 24],\n",
       "          [25, 26, 27, 28, 29],\n",
       "          [30, 31, 32, 33, 34],\n",
       "          [35, 36, 37, 38, 39]]]),\n",
       " tensor([[ 10,  35,  60,  85],\n",
       "         [110, 135, 160, 185]]),\n",
       " torch.Size([2, 4]))"
      ]
     },
     "execution_count": 38,
     "metadata": {},
     "output_type": "execute_result"
    }
   ],
   "source": [
    "A_sum_axis2 = A.sum(axis = 2)\n",
    "A, A_sum_axis2, A_sum_axis2.shape"
   ]
  },
  {
   "cell_type": "code",
   "execution_count": 40,
   "id": "c2e4fb29",
   "metadata": {},
   "outputs": [
    {
     "data": {
      "text/plain": [
       "(tensor([140, 148, 156, 164, 172]), torch.Size([5]))"
      ]
     },
     "execution_count": 40,
     "metadata": {},
     "output_type": "execute_result"
    }
   ],
   "source": [
    "A.sum(axis=[0, 1]), A.sum(axis=[0, 1]).shape"
   ]
  },
  {
   "cell_type": "markdown",
   "id": "98eff402",
   "metadata": {},
   "source": [
    "#### 12.求平均数"
   ]
  },
  {
   "cell_type": "code",
   "execution_count": 48,
   "id": "0fb8df01",
   "metadata": {},
   "outputs": [
    {
     "data": {
      "text/plain": [
       "(tensor(19.5000), tensor(19.5000))"
      ]
     },
     "execution_count": 48,
     "metadata": {},
     "output_type": "execute_result"
    }
   ],
   "source": [
    "A.mean(), A.sum() / A.numel()"
   ]
  },
  {
   "cell_type": "code",
   "execution_count": 50,
   "id": "9ce51f56",
   "metadata": {},
   "outputs": [
    {
     "data": {
      "text/plain": [
       "(tensor([[10., 11., 12., 13., 14.],\n",
       "         [15., 16., 17., 18., 19.],\n",
       "         [20., 21., 22., 23., 24.],\n",
       "         [25., 26., 27., 28., 29.]]),\n",
       " tensor([[10., 11., 12., 13., 14.],\n",
       "         [15., 16., 17., 18., 19.],\n",
       "         [20., 21., 22., 23., 24.],\n",
       "         [25., 26., 27., 28., 29.]]))"
      ]
     },
     "execution_count": 50,
     "metadata": {},
     "output_type": "execute_result"
    }
   ],
   "source": [
    "A.mean(axis=0), A.sum(axis=0) / A.shape[0]"
   ]
  },
  {
   "cell_type": "markdown",
   "id": "c9d5e7b5",
   "metadata": {},
   "source": [
    "#### 13. 计算数值时，保持轴数不变"
   ]
  },
  {
   "cell_type": "code",
   "execution_count": 55,
   "id": "8bdeeeed",
   "metadata": {},
   "outputs": [
    {
     "data": {
      "text/plain": [
       "(tensor([[[ 0,  1,  2,  3,  4],\n",
       "          [ 5,  6,  7,  8,  9],\n",
       "          [10, 11, 12, 13, 14],\n",
       "          [15, 16, 17, 18, 19]],\n",
       " \n",
       "         [[20, 21, 22, 23, 24],\n",
       "          [25, 26, 27, 28, 29],\n",
       "          [30, 31, 32, 33, 34],\n",
       "          [35, 36, 37, 38, 39]]]),\n",
       " tensor([[[ 30,  34,  38,  42,  46]],\n",
       " \n",
       "         [[110, 114, 118, 122, 126]]]))"
      ]
     },
     "execution_count": 55,
     "metadata": {},
     "output_type": "execute_result"
    }
   ],
   "source": [
    "A = torch.arange(40).reshape(2, 4, 5)\n",
    "sum_A = A.sum(axis = 1, keepdims=True) ## 用来搞广播机制的\n",
    "A, sum_A"
   ]
  },
  {
   "cell_type": "code",
   "execution_count": 54,
   "id": "d446f9ee",
   "metadata": {},
   "outputs": [
    {
     "data": {
      "text/plain": [
       "tensor([[[0.0000, 0.0294, 0.0526, 0.0714, 0.0870],\n",
       "         [0.1667, 0.1765, 0.1842, 0.1905, 0.1957],\n",
       "         [0.3333, 0.3235, 0.3158, 0.3095, 0.3043],\n",
       "         [0.5000, 0.4706, 0.4474, 0.4286, 0.4130]],\n",
       "\n",
       "        [[0.1818, 0.1842, 0.1864, 0.1885, 0.1905],\n",
       "         [0.2273, 0.2281, 0.2288, 0.2295, 0.2302],\n",
       "         [0.2727, 0.2719, 0.2712, 0.2705, 0.2698],\n",
       "         [0.3182, 0.3158, 0.3136, 0.3115, 0.3095]]])"
      ]
     },
     "execution_count": 54,
     "metadata": {},
     "output_type": "execute_result"
    }
   ],
   "source": [
    "A / sum_A"
   ]
  },
  {
   "cell_type": "code",
   "execution_count": 56,
   "id": "8e4763be",
   "metadata": {},
   "outputs": [
    {
     "data": {
      "text/plain": [
       "tensor([[[ 0,  1,  2,  3,  4],\n",
       "         [ 5,  6,  7,  8,  9],\n",
       "         [10, 11, 12, 13, 14],\n",
       "         [15, 16, 17, 18, 19]],\n",
       "\n",
       "        [[20, 22, 24, 26, 28],\n",
       "         [30, 32, 34, 36, 38],\n",
       "         [40, 42, 44, 46, 48],\n",
       "         [50, 52, 54, 56, 58]]])"
      ]
     },
     "execution_count": 56,
     "metadata": {},
     "output_type": "execute_result"
    }
   ],
   "source": [
    "A.cumsum(axis=0)"
   ]
  },
  {
   "cell_type": "markdown",
   "id": "8f4a76d4",
   "metadata": {},
   "source": [
    "#### 14.点积运算"
   ]
  },
  {
   "cell_type": "code",
   "execution_count": 58,
   "id": "4fba2a8a",
   "metadata": {},
   "outputs": [
    {
     "data": {
      "text/plain": [
       "(tensor([1., 1., 1., 1.]),\n",
       " tensor([0.3142, 0.5129, 0.6167, 0.1609]),\n",
       " tensor(1.6047))"
      ]
     },
     "execution_count": 58,
     "metadata": {},
     "output_type": "execute_result"
    }
   ],
   "source": [
    "x = torch.ones(4, dtype=torch.float32)\n",
    "y = torch.rand(4, dtype=torch.float32)\n",
    "x, y, torch.dot(x, y)"
   ]
  },
  {
   "cell_type": "code",
   "execution_count": 60,
   "id": "d82ef009",
   "metadata": {},
   "outputs": [
    {
     "data": {
      "text/plain": [
       "tensor(1.6047)"
      ]
     },
     "execution_count": 60,
     "metadata": {},
     "output_type": "execute_result"
    }
   ],
   "source": [
    "torch.sum(x * y) ### 等价于 torch.dot(x, y)"
   ]
  },
  {
   "cell_type": "markdown",
   "id": "2b1e9e37",
   "metadata": {},
   "source": [
    "#### 15. 矩阵与向量相乘($\\mathbf{Ax}$)可以得到一个长度维m的列向量\n",
    "#### 得到的每一维的标量是矩阵的行向量$\\alpha_i^T$和$\\mathbf{x}$的点积，即$\\alpha_i^T\\mathbf{x}$\n",
    "#### torch.mv()表示matrix_vector_multiplication"
   ]
  },
  {
   "cell_type": "code",
   "execution_count": 63,
   "id": "8e058699",
   "metadata": {},
   "outputs": [
    {
     "data": {
      "text/plain": [
       "(torch.Size([5, 4]), torch.Size([4]), tensor([ 6., 22., 38., 54., 70.]))"
      ]
     },
     "execution_count": 63,
     "metadata": {},
     "output_type": "execute_result"
    }
   ],
   "source": [
    "A = torch.arange(20, dtype=torch.float32).reshape(5, 4)\n",
    "A.shape, x.shape, torch.mv(A, x)"
   ]
  },
  {
   "cell_type": "markdown",
   "id": "e420c3cd",
   "metadata": {},
   "source": [
    "#### 16. $\\mathbf{L}_2$范数表示向量所有元素平方求和后开根号:$$\\mathbf{||x||_2}=\\sqrt{\\sum_{i=1}^n{x_i^2}}$$"
   ]
  },
  {
   "cell_type": "code",
   "execution_count": 64,
   "id": "af875d03",
   "metadata": {},
   "outputs": [
    {
     "data": {
      "text/plain": [
       "tensor(5.)"
      ]
     },
     "execution_count": 64,
     "metadata": {},
     "output_type": "execute_result"
    }
   ],
   "source": [
    "u = torch.tensor([3.0, 4])\n",
    "torch.norm(u)"
   ]
  },
  {
   "cell_type": "markdown",
   "id": "7af944f5",
   "metadata": {},
   "source": [
    "#### 17. $\\mathbf{L_1}$范数定义为向量的所有元素加上绝对值后求和：$$\\mathbf{||x||_1}=\\sum_{i=1}^n{|x_i|}$$"
   ]
  },
  {
   "cell_type": "code",
   "execution_count": 65,
   "id": "9a9b029b",
   "metadata": {},
   "outputs": [
    {
     "data": {
      "text/plain": [
       "tensor(7.)"
      ]
     },
     "execution_count": 65,
     "metadata": {},
     "output_type": "execute_result"
    }
   ],
   "source": [
    "torch.abs(u).sum()"
   ]
  },
  {
   "cell_type": "markdown",
   "id": "ac1f6aa4",
   "metadata": {},
   "source": [
    "#### 18. 矩阵的Frobenius norm是矩阵元素的平方和的平方根：\n",
    "#### $$\\mathbf{||X||_F}=\\sqrt{\\sum_{i=1}^{m}\\sum_{j=1}^n{x_{ij}^2}}$$"
   ]
  },
  {
   "cell_type": "code",
   "execution_count": 79,
   "id": "758f46e8",
   "metadata": {},
   "outputs": [
    {
     "data": {
      "text/plain": [
       "(tensor(143.3178), tensor(143.3178))"
      ]
     },
     "execution_count": 79,
     "metadata": {},
     "output_type": "execute_result"
    }
   ],
   "source": [
    "X = torch.arange(40, dtype=torch.float32).reshape((2, 4, 5))\n",
    "X.norm(), (X*X).sum().sqrt()"
   ]
  },
  {
   "cell_type": "code",
   "execution_count": null,
   "id": "ef39aeb6",
   "metadata": {},
   "outputs": [],
   "source": []
  }
 ],
 "metadata": {
  "kernelspec": {
   "display_name": "Python 3 (ipykernel)",
   "language": "python",
   "name": "python3"
  },
  "language_info": {
   "codemirror_mode": {
    "name": "ipython",
    "version": 3
   },
   "file_extension": ".py",
   "mimetype": "text/x-python",
   "name": "python",
   "nbconvert_exporter": "python",
   "pygments_lexer": "ipython3",
   "version": "3.10.9"
  }
 },
 "nbformat": 4,
 "nbformat_minor": 5
}
