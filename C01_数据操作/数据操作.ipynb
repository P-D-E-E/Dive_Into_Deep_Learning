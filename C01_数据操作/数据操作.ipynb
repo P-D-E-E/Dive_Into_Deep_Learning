{
 "cells": [
  {
   "cell_type": "markdown",
   "id": "e72b7446",
   "metadata": {},
   "source": [
    "#### 导入torch包"
   ]
  },
  {
   "cell_type": "code",
   "execution_count": 4,
   "id": "172f2a26",
   "metadata": {},
   "outputs": [],
   "source": [
    "import torch"
   ]
  },
  {
   "cell_type": "markdown",
   "id": "5fcda2fc",
   "metadata": {},
   "source": [
    "#### 1.创建张量的方法，张量可以包含1-n的维度\n",
    "##### 张量的维度按顺序是从外到内去数的"
   ]
  },
  {
   "cell_type": "code",
   "execution_count": 5,
   "id": "a1e0ae72",
   "metadata": {},
   "outputs": [
    {
     "data": {
      "text/plain": [
       "tensor([ 0,  1,  2,  3,  4,  5,  6,  7,  8,  9, 10, 11])"
      ]
     },
     "execution_count": 5,
     "metadata": {},
     "output_type": "execute_result"
    }
   ],
   "source": [
    "x = torch.arange(12) ##arange的是左闭右开的\n",
    "x"
   ]
  },
  {
   "cell_type": "markdown",
   "id": "30a2bfa8",
   "metadata": {},
   "source": [
    "#### 2.通过tensor.shape可以返回张量的形状\n",
    "####   通过tensor.numel()可以返回张量包含的元素个数"
   ]
  },
  {
   "cell_type": "code",
   "execution_count": 6,
   "id": "b8828631",
   "metadata": {},
   "outputs": [
    {
     "data": {
      "text/plain": [
       "torch.Size([12])"
      ]
     },
     "execution_count": 6,
     "metadata": {},
     "output_type": "execute_result"
    }
   ],
   "source": [
    "x.shape"
   ]
  },
  {
   "cell_type": "markdown",
   "id": "fb05ee15",
   "metadata": {},
   "source": [
    "x.numel() "
   ]
  },
  {
   "cell_type": "markdown",
   "id": "131fa618",
   "metadata": {},
   "source": [
    "#### 3.想要改变张量的形状且同时不改变张量的数量和元素数值，可以调用```reshape```函数"
   ]
  },
  {
   "cell_type": "code",
   "execution_count": 8,
   "id": "b708acf6",
   "metadata": {},
   "outputs": [
    {
     "data": {
      "text/plain": [
       "tensor([[ 0,  1,  2,  3],\n",
       "        [ 4,  5,  6,  7],\n",
       "        [ 8,  9, 10, 11]])"
      ]
     },
     "execution_count": 8,
     "metadata": {},
     "output_type": "execute_result"
    }
   ],
   "source": [
    "x = x.reshape(3, 4)\n",
    "x"
   ]
  },
  {
   "cell_type": "markdown",
   "id": "11ab8c85",
   "metadata": {},
   "source": [
    "#### 4.可以使用特定的函数创建全0、全1、其他常量或者使用特定分布作为生成器的张量\n",
    "##### torch.zeros((size of each dimensions)) //创建全0张量 \n",
    "##### torch.ones((size of each dimensions)) //创建全1张量\n",
    "##### torch.rand((size of each dimensions)) //创建随机张量"
   ]
  },
  {
   "cell_type": "code",
   "execution_count": 17,
   "id": "42c83e82",
   "metadata": {},
   "outputs": [
    {
     "data": {
      "text/plain": [
       "tensor([[0., 0., 0., 0., 0.],\n",
       "        [0., 0., 0., 0., 0.],\n",
       "        [0., 0., 0., 0., 0.]])"
      ]
     },
     "execution_count": 17,
     "metadata": {},
     "output_type": "execute_result"
    }
   ],
   "source": [
    "torch.zeros((3, 5))"
   ]
  },
  {
   "cell_type": "code",
   "execution_count": 16,
   "id": "829ecb6b",
   "metadata": {},
   "outputs": [
    {
     "data": {
      "text/plain": [
       "tensor([[1., 1., 1.],\n",
       "        [1., 1., 1.]])"
      ]
     },
     "execution_count": 16,
     "metadata": {},
     "output_type": "execute_result"
    }
   ],
   "source": [
    "torch.ones((2, 3))"
   ]
  },
  {
   "cell_type": "code",
   "execution_count": 15,
   "id": "aabbcd55",
   "metadata": {},
   "outputs": [
    {
     "data": {
      "text/plain": [
       "tensor([[[0.8487, 0.5274, 0.8675],\n",
       "         [0.3575, 0.2886, 0.9195]]])"
      ]
     },
     "execution_count": 15,
     "metadata": {},
     "output_type": "execute_result"
    }
   ],
   "source": [
    "torch.rand((1, 2, 3))"
   ]
  },
  {
   "cell_type": "markdown",
   "id": "fd420847",
   "metadata": {},
   "source": [
    "#### 5.通过赋特定的值来创建张量，使用的是Py列表"
   ]
  },
  {
   "cell_type": "code",
   "execution_count": 20,
   "id": "840829df",
   "metadata": {},
   "outputs": [
    {
     "name": "stdout",
     "output_type": "stream",
     "text": [
      "torch.Size([4, 3])\n"
     ]
    },
    {
     "data": {
      "text/plain": [
       "(tensor([[1, 2, 3],\n",
       "         [2, 2, 3],\n",
       "         [3, 2, 3],\n",
       "         [4, 2, 3]]),\n",
       " None)"
      ]
     },
     "execution_count": 20,
     "metadata": {},
     "output_type": "execute_result"
    }
   ],
   "source": [
    "x = torch.tensor([[1, 2, 3],[2, 2, 3],[3, 2, 3],[4, 2, 3]])\n",
    "x, print(x.shape)"
   ]
  },
  {
   "cell_type": "markdown",
   "id": "15e62f2f",
   "metadata": {},
   "source": [
    "#### 6.可以对两个相同形状的张量进行按元素计算的操作"
   ]
  },
  {
   "cell_type": "code",
   "execution_count": 23,
   "id": "96d8ea87",
   "metadata": {},
   "outputs": [
    {
     "data": {
      "text/plain": [
       "(tensor([ 3.,  5.,  8., 13.]),\n",
       " tensor([-1., -1.,  0.,  3.]),\n",
       " tensor([ 2.,  6., 16., 40.]),\n",
       " tensor([0.5000, 0.6667, 1.0000, 1.6000]),\n",
       " tensor([1.0000e+00, 8.0000e+00, 2.5600e+02, 3.2768e+04]))"
      ]
     },
     "execution_count": 23,
     "metadata": {},
     "output_type": "execute_result"
    }
   ],
   "source": [
    "x = torch.tensor([1.0, 2, 4, 8])\n",
    "y = torch.tensor([2, 3, 4, 5])\n",
    "x + y, x - y, x * y, x / y, x ** y"
   ]
  },
  {
   "cell_type": "markdown",
   "id": "c1b7a10f",
   "metadata": {},
   "source": [
    "#### 7.可以把多个张量粘起来\n",
    "##### 可以按照不同的维度来粘\n",
    "##### torch.cat((X, Y), dim = 0) //按照最外面的维度来粘"
   ]
  },
  {
   "cell_type": "code",
   "execution_count": 25,
   "id": "1237fc80",
   "metadata": {},
   "outputs": [
    {
     "data": {
      "text/plain": [
       "(tensor([[  0.,   1.,   2.,   3.],\n",
       "         [  4.,   5.,   6.,   7.],\n",
       "         [  8.,   9.,  10.,  11.],\n",
       "         [  1.,   2.,   4.,   8.],\n",
       "         [  2.,   3.,  41.,  12.],\n",
       "         [  3.,   3., 231.,   2.]]),\n",
       " tensor([[  0.,   1.,   2.,   3.,   1.,   2.,   4.,   8.],\n",
       "         [  4.,   5.,   6.,   7.,   2.,   3.,  41.,  12.],\n",
       "         [  8.,   9.,  10.,  11.,   3.,   3., 231.,   2.]]))"
      ]
     },
     "execution_count": 25,
     "metadata": {},
     "output_type": "execute_result"
    }
   ],
   "source": [
    "X = torch.arange(12, dtype=torch.float32).reshape(3, 4)\n",
    "Y = torch.tensor([[1, 2, 4, 8],[2, 3, 41, 12],[3, 3,231, 2]])\n",
    "torch.cat((X, Y), dim = 0), torch.cat((X, Y), dim = 1)"
   ]
  },
  {
   "cell_type": "markdown",
   "id": "890ba4e4",
   "metadata": {},
   "source": [
    "#### 8.按元素比较值是不是一样"
   ]
  },
  {
   "cell_type": "code",
   "execution_count": 26,
   "id": "f654a3bd",
   "metadata": {},
   "outputs": [
    {
     "data": {
      "text/plain": [
       "tensor([[False, False, False, False],\n",
       "        [False, False, False, False],\n",
       "        [False, False, False, False]])"
      ]
     },
     "execution_count": 26,
     "metadata": {},
     "output_type": "execute_result"
    }
   ],
   "source": [
    "X == Y"
   ]
  },
  {
   "cell_type": "markdown",
   "id": "ee6a10ab",
   "metadata": {},
   "source": [
    "#### 9.对张量按元素求和"
   ]
  },
  {
   "cell_type": "code",
   "execution_count": 27,
   "id": "ae0ad805",
   "metadata": {},
   "outputs": [
    {
     "data": {
      "text/plain": [
       "tensor(66.)"
      ]
     },
     "execution_count": 27,
     "metadata": {},
     "output_type": "execute_result"
    }
   ],
   "source": [
    "X.sum()"
   ]
  },
  {
   "cell_type": "markdown",
   "id": "a916e429",
   "metadata": {},
   "source": [
    "#### 10.张量形状不一样，还会通过广播机制（broadcasting mechanism）来对元素执行操作\n",
    "##### 通过适当复制元素来扩展一个或两个数组，以便在转换之后，两个张量具有相同的形状；\n",
    "##### 对生成的数组执行按元素操作。"
   ]
  },
  {
   "cell_type": "code",
   "execution_count": 38,
   "id": "e5ecc0fa",
   "metadata": {},
   "outputs": [
    {
     "data": {
      "text/plain": [
       "(tensor([[0],\n",
       "         [1],\n",
       "         [2],\n",
       "         [3]]),\n",
       " tensor([[0, 1]]))"
      ]
     },
     "execution_count": 38,
     "metadata": {},
     "output_type": "execute_result"
    }
   ],
   "source": [
    "a = torch.arange(4).reshape((4, 1))\n",
    "b = torch.arange(2).reshape((1, 2))\n",
    "a, b"
   ]
  },
  {
   "cell_type": "code",
   "execution_count": 39,
   "id": "d7e5b389",
   "metadata": {},
   "outputs": [
    {
     "data": {
      "text/plain": [
       "tensor([[0, 1],\n",
       "        [1, 2],\n",
       "        [2, 3],\n",
       "        [3, 4]])"
      ]
     },
     "execution_count": 39,
     "metadata": {},
     "output_type": "execute_result"
    }
   ],
   "source": [
    "a + b"
   ]
  },
  {
   "cell_type": "markdown",
   "id": "eab1e591",
   "metadata": {},
   "source": [
    "#### 11.访问列表/数组/张量的方法\n",
    "##### (1)、可以用[-1]选择第一维的最后一块元素，可以用[1:3]选择第二个和第三个元素（左闭右开）\n",
    "##### (2)、可以用[: : n]表示要从第0行开始，每隔n下选一下"
   ]
  },
  {
   "cell_type": "code",
   "execution_count": 41,
   "id": "234035f8",
   "metadata": {},
   "outputs": [
    {
     "data": {
      "text/plain": [
       "(tensor([ 8.,  9., 10., 11.]),\n",
       " tensor([[ 4.,  5.,  6.,  7.],\n",
       "         [ 8.,  9., 10., 11.]]))"
      ]
     },
     "execution_count": 41,
     "metadata": {},
     "output_type": "execute_result"
    }
   ],
   "source": [
    "X[-1], X[1:3]"
   ]
  },
  {
   "cell_type": "code",
   "execution_count": 42,
   "id": "4999e9b1",
   "metadata": {},
   "outputs": [
    {
     "data": {
      "text/plain": [
       "tensor([[ 0.,  1.,  2.,  3.],\n",
       "        [ 8.,  9., 10., 11.]])"
      ]
     },
     "execution_count": 42,
     "metadata": {},
     "output_type": "execute_result"
    }
   ],
   "source": [
    "X[::2][::1]"
   ]
  },
  {
   "cell_type": "markdown",
   "id": "e903235b",
   "metadata": {},
   "source": [
    "#### 12.可以改特定的值"
   ]
  },
  {
   "cell_type": "code",
   "execution_count": 44,
   "id": "baf1f215",
   "metadata": {},
   "outputs": [
    {
     "data": {
      "text/plain": [
       "tensor([[ 0.,  1.,  2.,  3.],\n",
       "        [ 4.,  5., 11.,  7.],\n",
       "        [ 8.,  9., 10., 11.]])"
      ]
     },
     "execution_count": 44,
     "metadata": {},
     "output_type": "execute_result"
    }
   ],
   "source": [
    "X[1, 2] = 11\n",
    "X"
   ]
  },
  {
   "cell_type": "code",
   "execution_count": 46,
   "id": "28d20c66",
   "metadata": {},
   "outputs": [
    {
     "data": {
      "text/plain": [
       "tensor([[12., 12., 12., 12.],\n",
       "        [12., 12., 12., 12.],\n",
       "        [ 8.,  9., 10., 11.]])"
      ]
     },
     "execution_count": 46,
     "metadata": {},
     "output_type": "execute_result"
    }
   ],
   "source": [
    "X[0:2, :] = 12\n",
    "X"
   ]
  },
  {
   "cell_type": "markdown",
   "id": "9abc1de0",
   "metadata": {},
   "source": [
    "#### 13.进行某些运算会导致为新结果分配内存，不像C++这种是直接覆盖在原数组上的\n",
    "##### 在Python中，变量的 id 是一个整数，用于标识变量的内存地址。当你将一个变量赋值给另一个变量时，两个变量实际上引用同一个对象。因此，它们的 id 是相同的。\n",
    "\n",
    "##### 但是，当你修改一个可变对象（如列表、字典、集合等）时，Python会创建一个新的对象来存储修改后的数据。这意味着，如果你对一个列表进行了修改，它的 id 就会发生变化。\n",
    "\n",
    "##### 在你的例子中，当你执行 y = y + x 时，Python实际上创建了一个新的列表来存储 y 和 x 的和，然后将该列表赋值给 y。因此，y 的 id 发生了变化。\n",
    "\n",
    "##### 如果你希望 y 的 id 不发生变化，可以使用原地修改列表的方法，如 y.extend(x) 或 y += x。这些方法会修改 y 中的数据，而不是创建一个新的对象。"
   ]
  },
  {
   "cell_type": "code",
   "execution_count": 48,
   "id": "cbab76db",
   "metadata": {},
   "outputs": [
    {
     "data": {
      "text/plain": [
       "False"
      ]
     },
     "execution_count": 48,
     "metadata": {},
     "output_type": "execute_result"
    }
   ],
   "source": [
    "before = id(Y)\n",
    "Y = Y + X\n",
    "id(Y) == before"
   ]
  },
  {
   "cell_type": "markdown",
   "id": "254a9183",
   "metadata": {},
   "source": [
    "#### 14.原地操作\n",
    "##### 就是先创建一个0元素副本，然后用[:]的办法赋值。或使用X += Y来进行"
   ]
  },
  {
   "cell_type": "code",
   "execution_count": 50,
   "id": "bc88d2bc",
   "metadata": {},
   "outputs": [
    {
     "name": "stdout",
     "output_type": "stream",
     "text": [
      "id(Z): 1636158619168\n",
      "id(Z): 1636158619168\n"
     ]
    }
   ],
   "source": [
    "Z = torch.zeros_like(Y)\n",
    "print(\"id(Z): %d\" % id(Z))\n",
    "Z[:] = X + Y\n",
    "print(\"id(Z): %d\" % id(Z))"
   ]
  },
  {
   "cell_type": "markdown",
   "id": "f2afcfbd",
   "metadata": {},
   "source": [
    "#### 15.NumPy转Tensor。\n",
    "##### NumPy才是最常用的计算框架"
   ]
  },
  {
   "cell_type": "code",
   "execution_count": 51,
   "id": "7a1e5716",
   "metadata": {},
   "outputs": [
    {
     "data": {
      "text/plain": [
       "(numpy.ndarray, torch.Tensor)"
      ]
     },
     "execution_count": 51,
     "metadata": {},
     "output_type": "execute_result"
    }
   ],
   "source": [
    "A = X.numpy()\n",
    "B = torch.tensor(A)\n",
    "type(A), type(B)"
   ]
  },
  {
   "cell_type": "markdown",
   "id": "a44a591b",
   "metadata": {},
   "source": [
    "#### 16. 大小为1的张量转换为标量"
   ]
  },
  {
   "cell_type": "code",
   "execution_count": 53,
   "id": "e42a68ac",
   "metadata": {},
   "outputs": [
    {
     "data": {
      "text/plain": [
       "(tensor([3.1100]), 3.109999895095825, 3.109999895095825, 3)"
      ]
     },
     "execution_count": 53,
     "metadata": {},
     "output_type": "execute_result"
    }
   ],
   "source": [
    "a = torch.tensor([3.11])\n",
    "a, a.item(), float(a), int(a)"
   ]
  },
  {
   "cell_type": "code",
   "execution_count": null,
   "id": "7f1675db",
   "metadata": {},
   "outputs": [],
   "source": []
  }
 ],
 "metadata": {
  "kernelspec": {
   "display_name": "Python 3 (ipykernel)",
   "language": "python",
   "name": "python3"
  },
  "language_info": {
   "codemirror_mode": {
    "name": "ipython",
    "version": 3
   },
   "file_extension": ".py",
   "mimetype": "text/x-python",
   "name": "python",
   "nbconvert_exporter": "python",
   "pygments_lexer": "ipython3",
   "version": "3.10.9"
  }
 },
 "nbformat": 4,
 "nbformat_minor": 5
}
